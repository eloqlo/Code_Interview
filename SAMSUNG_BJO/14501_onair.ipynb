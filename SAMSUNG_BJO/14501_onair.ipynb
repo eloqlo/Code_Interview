{
 "cells": [
  {
   "cell_type": "code",
   "execution_count": 15,
   "metadata": {},
   "outputs": [
    {
     "name": "stdout",
     "output_type": "stream",
     "text": [
      "deque([0, 1, 2, 3, 4, 5, 6, 7, 8, 9]) 10\n",
      "9\n"
     ]
    },
    {
     "ename": "IndexError",
     "evalue": "list index out of range",
     "output_type": "error",
     "traceback": [
      "\u001b[1;31m---------------------------------------------------------------------------\u001b[0m",
      "\u001b[1;31mIndexError\u001b[0m                                Traceback (most recent call last)",
      "Input \u001b[1;32mIn [15]\u001b[0m, in \u001b[0;36m<cell line: 29>\u001b[1;34m()\u001b[0m\n\u001b[0;32m     30\u001b[0m \u001b[38;5;28;01mif\u001b[39;00m \u001b[38;5;28mlen\u001b[39m(dq)\u001b[38;5;241m==\u001b[39m\u001b[38;5;241m0\u001b[39m:\n\u001b[0;32m     31\u001b[0m     end_counter\u001b[38;5;241m+\u001b[39m\u001b[38;5;241m=\u001b[39m\u001b[38;5;241m1\u001b[39m\n\u001b[1;32m---> 33\u001b[0m end_po \u001b[38;5;241m=\u001b[39m idx\u001b[38;5;241m+\u001b[39m\u001b[43mli\u001b[49m\u001b[43m[\u001b[49m\u001b[43midx\u001b[49m\u001b[43m]\u001b[49m[\u001b[38;5;241m0\u001b[39m]\u001b[38;5;241m-\u001b[39m\u001b[38;5;241m1\u001b[39m\n\u001b[0;32m     35\u001b[0m \u001b[38;5;28;01mif\u001b[39;00m end_po \u001b[38;5;241m<\u001b[39m N:  \u001b[38;5;66;03m# 실행 가능한 현재 idx\u001b[39;00m\n\u001b[0;32m     36\u001b[0m     dq\u001b[38;5;241m.\u001b[39mappend(idx)\n",
      "\u001b[1;31mIndexError\u001b[0m: list index out of range"
     ]
    }
   ],
   "source": [
    "from collections import deque\n",
    "\n",
    "debugging=True\n",
    "\n",
    "if not debugging:\n",
    "    N = int(input())\n",
    "    li=[]\n",
    "\n",
    "    # 불가능한 상담은 None으로 대체\n",
    "    for i in range(N):\n",
    "        ti, pi = map(int,input().split())\n",
    "        if i+ti > N:    # 조건1\n",
    "            li.append((None,None))\n",
    "            continue\n",
    "        li.append((ti,pi))\n",
    "else:\n",
    "    # N = 7\n",
    "    # li = [(3,10),(5,20),(1,10),(1,20),(2,15),(4,40),(2,200)]\n",
    "    \n",
    "    N = 10\n",
    "    li=[(1,1),(1,2),(1,3),(1,4),(1,5),(1,6),(1,7),(1,8),(1,9),(1,10)]\n",
    "\n",
    "# 가능한 모든 경우의 금액을 조합 -> greedy\n",
    "dq=deque()\n",
    "idx=0\n",
    "max_income=0\n",
    "now_income=0\n",
    "end_counter=0\n",
    "while end_counter!=N:\n",
    "    if len(dq)==0:\n",
    "        end_counter+=1\n",
    "    \n",
    "    end_po = idx+li[idx][0]-1\n",
    "    \n",
    "    if end_po < N:  # 실행 가능한 현재 idx\n",
    "        dq.append(idx)\n",
    "        now_income += li[idx][1]\n",
    "        idx = end_po+1\n",
    "    elif end_po >= N:   # 실행 불가능한 idx\n",
    "        idx += 1\n",
    "    \n",
    "    if idx==N:  # 탐색 완료.\n",
    "        print(dq, idx)\n",
    "        \n",
    "        if len(dq)==0:\n",
    "            break\n",
    "        if max_income < now_income:\n",
    "            max_income = now_income\n",
    "        # 마지막idx+1 부터 다시 탐사.\n",
    "        idx = dq.pop()\n",
    "        now_income -= li[idx][1]\n",
    "        idx += 1\n",
    "\n",
    "\n",
    "print(max_income)"
   ]
  },
  {
   "cell_type": "code",
   "execution_count": 4,
   "metadata": {},
   "outputs": [],
   "source": [
    "dq=deque()"
   ]
  },
  {
   "cell_type": "code",
   "execution_count": 5,
   "metadata": {},
   "outputs": [
    {
     "data": {
      "text/plain": [
       "0"
      ]
     },
     "execution_count": 5,
     "metadata": {},
     "output_type": "execute_result"
    }
   ],
   "source": [
    "dq."
   ]
  }
 ],
 "metadata": {
  "kernelspec": {
   "display_name": "Python 3",
   "language": "python",
   "name": "python3"
  },
  "language_info": {
   "codemirror_mode": {
    "name": "ipython",
    "version": 3
   },
   "file_extension": ".py",
   "mimetype": "text/x-python",
   "name": "python",
   "nbconvert_exporter": "python",
   "pygments_lexer": "ipython3",
   "version": "3.10.11"
  }
 },
 "nbformat": 4,
 "nbformat_minor": 2
}
