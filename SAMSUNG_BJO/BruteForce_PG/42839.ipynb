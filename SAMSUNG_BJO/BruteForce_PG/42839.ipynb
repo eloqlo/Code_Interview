{
 "cells": [
  {
   "cell_type": "code",
   "execution_count": 27,
   "metadata": {},
   "outputs": [],
   "source": [
    "from math import sqrt\n",
    "from itertools import permutations\n",
    "\n",
    "def judger(pri_test):\n",
    "    for num in range(2,int(sqrt(pri_test))+1):\n",
    "        if pri_test%num==0:\n",
    "            return False\n",
    "    return True\n",
    "\n",
    "def solution(numbers):\n",
    "    num_li = [int(num) for num in numbers]\n",
    "    \n",
    "    # judge whether a primary number or not.\n",
    "    pri_nums=set()\n",
    "    for i in range(1, len(num_li)+1):\n",
    "        for p in permutations(num_li, i):\n",
    "            if p[0]==0:\n",
    "                continue\n",
    "            pri_test=int(''.join(map(str,p)))\n",
    "            if judger(pri_test) and pri_test>1:\n",
    "                pri_nums.add(pri_test)\n",
    "    \n",
    "    return len(pri_nums)"
   ]
  },
  {
   "cell_type": "markdown",
   "metadata": {},
   "source": [
    "## 풀이\n",
    "\n",
    "1. 입력 숫자의 모든 조합을 계산한다.\n",
    "    - 이는 itertools 라이브러리의 permutations 함수를 이용한다. 이는 어떤 묶음에 대한 순열을 구해주는 함수.\n",
    "2. 해당 조합이 각각 소수인지 count 한다.\n",
    "    - 이 때, 중복되는 소수를 다루기 까다로우므로, set을 이용해 중복을 제거해 주었다.\n",
    "    - numbers의 길이가 7이하인 점을 고려하여, set을 이용해 소수인 숫자를 저장해도 공간 복잡도가 크지 않을거란 판단.\n"
   ]
  }
 ],
 "metadata": {
  "kernelspec": {
   "display_name": "Python 3",
   "language": "python",
   "name": "python3"
  },
  "language_info": {
   "codemirror_mode": {
    "name": "ipython",
    "version": 3
   },
   "file_extension": ".py",
   "mimetype": "text/x-python",
   "name": "python",
   "nbconvert_exporter": "python",
   "pygments_lexer": "ipython3",
   "version": "3.10.11"
  }
 },
 "nbformat": 4,
 "nbformat_minor": 2
}
