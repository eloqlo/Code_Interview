{
 "cells": [
  {
   "cell_type": "code",
   "execution_count": 48,
   "metadata": {},
   "outputs": [],
   "source": [
    "# 시간초과 1,2,3,5,6\n",
    "# 실패 11\n",
    "def solution(phone_book):\n",
    "    \n",
    "    # make one large dictionary\n",
    "    solver_book=[{str(key):set() for key in range(10)}]*20\n",
    "    for phone_book_idx, ele in enumerate(phone_book):\n",
    "        for num_idx, num_ele in enumerate(ele): # iterate by number\n",
    "            solver_book[num_idx][num_ele].add(phone_book_idx)\n",
    "            # num_idx 자리에 num_ele를 가진애에 phone_book_idx 추가!\n",
    "    \n",
    "    # check each numbers\n",
    "    for target_idx, target_ele in enumerate(phone_book):\n",
    "        tmp=[]\n",
    "        for query_idx, query_num in enumerate(target_ele):\n",
    "            tmp.append(solver_book[query_idx][query_num])\n",
    "        if len(set.intersection(*tmp))>1:\n",
    "            return False\n",
    "    return True"
   ]
  },
  {
   "cell_type": "code",
   "execution_count": 49,
   "metadata": {},
   "outputs": [
    {
     "data": {
      "text/plain": [
       "True"
      ]
     },
     "execution_count": 49,
     "metadata": {},
     "output_type": "execute_result"
    }
   ],
   "source": [
    "solution([\"0\",\"119\"])"
   ]
  },
  {
   "cell_type": "code",
   "execution_count": 47,
   "metadata": {},
   "outputs": [
    {
     "data": {
      "text/plain": [
       "{1, 2, 4}"
      ]
     },
     "execution_count": 47,
     "metadata": {},
     "output_type": "execute_result"
    }
   ],
   "source": [
    "array=[5,7,9,0,3,1,6,2,4,8]\n",
    "\n",
    "def quick_sort(array):\n",
    "    if len(array) <=1 :\n",
    "        return array\n",
    "    \n",
    "    pivot = array[0]\n",
    "    tail = array[1:]\n",
    "    \n",
    "    left_side = [x for x in tail if x<=pivot]\n",
    "    right_side = [x for x in tail if x>pivot]\n",
    "    return quick_sort(left_side) + [pivot] + quick_sort(right_side)\n",
    "\n",
    "print(quick_sort(array))"
   ]
  }
 ],
 "metadata": {
  "kernelspec": {
   "display_name": "Python 3",
   "language": "python",
   "name": "python3"
  },
  "language_info": {
   "codemirror_mode": {
    "name": "ipython",
    "version": 3
   },
   "file_extension": ".py",
   "mimetype": "text/x-python",
   "name": "python",
   "nbconvert_exporter": "python",
   "pygments_lexer": "ipython3",
   "version": "3.10.11"
  }
 },
 "nbformat": 4,
 "nbformat_minor": 2
}
