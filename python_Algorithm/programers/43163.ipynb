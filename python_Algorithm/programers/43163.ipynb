{
 "cells": [
  {
   "cell_type": "code",
   "execution_count": 64,
   "metadata": {},
   "outputs": [],
   "source": [
    "def solution(b, t, li):\n",
    "    if t not in li:\n",
    "        return 0\n",
    "    \n",
    "    # 제시어에서 li중 이동할 수 있는 단어들\n",
    "    def makeCombinations(begin, target, li, check):\n",
    "        begins=[]\n",
    "        flag=False\n",
    "        for idx, ele in enumerate(li):\n",
    "            count=0\n",
    "            for b,e in zip(begin,ele):\n",
    "                if b!=e:\n",
    "                    count+=1\n",
    "            if count==1 and check[idx]==False:\n",
    "                if ele==target:\n",
    "                    flag=True\n",
    "                    break\n",
    "                begins.append(ele)\n",
    "                check[idx]=True\n",
    "        return begins, flag\n",
    "    \n",
    "    check = [False]*len(li)\n",
    "    begins, _ = makeCombinations(b, t, li, check)\n",
    "    count=1\n",
    "    for _ in range(len(li)):\n",
    "        count+=1\n",
    "        tmp=[]\n",
    "        for ele in begins:\n",
    "            tmptmp, flag = makeCombinations(ele, t, li, check)\n",
    "            if flag:\n",
    "                return count\n",
    "            if len(tmptmp)==0:\n",
    "                return 0\n",
    "            tmp += tmptmp\n",
    "        begins=tmp.copy()\n",
    "    "
   ]
  },
  {
   "cell_type": "code",
   "execution_count": 66,
   "metadata": {},
   "outputs": [
    {
     "data": {
      "text/plain": [
       "0"
      ]
     },
     "execution_count": 66,
     "metadata": {},
     "output_type": "execute_result"
    }
   ],
   "source": [
    "li=[\"hot\", \"dot\", \"dog\", \"lot\", \"log\"]\n",
    "begin='hit'\n",
    "target='cog'\n",
    "solution(begin, target, li)"
   ]
  },
  {
   "cell_type": "code",
   "execution_count": null,
   "metadata": {},
   "outputs": [],
   "source": []
  }
 ],
 "metadata": {
  "kernelspec": {
   "display_name": "Python 3",
   "language": "python",
   "name": "python3"
  },
  "language_info": {
   "codemirror_mode": {
    "name": "ipython",
    "version": 3
   },
   "file_extension": ".py",
   "mimetype": "text/x-python",
   "name": "python",
   "nbconvert_exporter": "python",
   "pygments_lexer": "ipython3",
   "version": "3.10.11"
  }
 },
 "nbformat": 4,
 "nbformat_minor": 2
}
