{
 "cells": [
  {
   "cell_type": "code",
   "execution_count": 4,
   "metadata": {},
   "outputs": [
    {
     "ename": "SyntaxError",
     "evalue": "invalid syntax (2570179255.py, line 2)",
     "output_type": "error",
     "traceback": [
      "\u001b[1;36m  Input \u001b[1;32mIn [4]\u001b[1;36m\u001b[0m\n\u001b[1;33m    q.append(1) if True else continue\u001b[0m\n\u001b[1;37m                             ^\u001b[0m\n\u001b[1;31mSyntaxError\u001b[0m\u001b[1;31m:\u001b[0m invalid syntax\n"
     ]
    }
   ],
   "source": [
    "from collections import deque\n",
    "\n",
    "def solution(n, computers):\n",
    "    count=0\n",
    "    for i in range(n):\n",
    "        q = deque()\n",
    "        flag=False\n",
    "        for idx in range(i,n):\n",
    "            if computers[i][idx]==1:\n",
    "                if not flag:\n",
    "                    count+=1\n",
    "                    flag=True\n",
    "                computers[i][idx]=0\n",
    "                computers[idx][i]=0\n",
    "                if idx!=i:\n",
    "                    q.append(idx)\n",
    "        while q:\n",
    "            idx = q.popleft()\n",
    "            for jdx, val in enumerate(computers[idx]):\n",
    "                if val==1:\n",
    "                    computers[idx][jdx]=0\n",
    "                    computers[jdx][idx]=0\n",
    "                    if idx!=jdx:\n",
    "                        q.append(jdx)\n",
    "        flag=False\n",
    "    return count\n",
    "    "
   ]
  }
 ],
 "metadata": {
  "kernelspec": {
   "display_name": "Python 3",
   "language": "python",
   "name": "python3"
  },
  "language_info": {
   "codemirror_mode": {
    "name": "ipython",
    "version": 3
   },
   "file_extension": ".py",
   "mimetype": "text/x-python",
   "name": "python",
   "nbconvert_exporter": "python",
   "pygments_lexer": "ipython3",
   "version": "3.10.11"
  }
 },
 "nbformat": 4,
 "nbformat_minor": 2
}
