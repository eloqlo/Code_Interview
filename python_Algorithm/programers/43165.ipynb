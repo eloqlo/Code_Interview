{
 "cells": [
  {
   "cell_type": "code",
   "execution_count": 9,
   "metadata": {},
   "outputs": [],
   "source": [
    "# 완전탐색\n",
    "global ans\n",
    "ans=0\n",
    "def solution(numbers, target):\n",
    "    def dfs(num,i):\n",
    "        global ans\n",
    "        if i==len(numbers)-1:\n",
    "            if num==target:\n",
    "                ans+=1\n",
    "            return\n",
    "        else:\n",
    "            num_next=numbers[i+1]\n",
    "        dfs(num+num_next,i+1)\n",
    "        dfs(num-num_next,i+1)\n",
    "    \n",
    "    dfs(numbers[0],0)\n",
    "    dfs(-numbers[0],0)\n",
    "    \n",
    "    return ans"
   ]
  },
  {
   "cell_type": "code",
   "execution_count": 10,
   "metadata": {},
   "outputs": [
    {
     "data": {
      "text/plain": [
       "2"
      ]
     },
     "execution_count": 10,
     "metadata": {},
     "output_type": "execute_result"
    }
   ],
   "source": [
    "solution([4,1,2,1],4)"
   ]
  }
 ],
 "metadata": {
  "kernelspec": {
   "display_name": "Python 3",
   "language": "python",
   "name": "python3"
  },
  "language_info": {
   "codemirror_mode": {
    "name": "ipython",
    "version": 3
   },
   "file_extension": ".py",
   "mimetype": "text/x-python",
   "name": "python",
   "nbconvert_exporter": "python",
   "pygments_lexer": "ipython3",
   "version": "3.10.11"
  }
 },
 "nbformat": 4,
 "nbformat_minor": 2
}
