{
 "cells": [
  {
   "cell_type": "code",
   "execution_count": 26,
   "metadata": {},
   "outputs": [],
   "source": [
    "from math import sqrt\n",
    "\n",
    "def solution(k, d):\n",
    "    #1 count whole numbers\n",
    "    dot_inside_d = (d//k + 1)**2    \n",
    "    \n",
    "    #2 calculate exceptions\n",
    "    exceptions = 0\n",
    "    for y in range((d//k)*k, 0, -k):\n",
    "        for x in range(k, (d//k)*k+1, k):\n",
    "            if sqrt(x**2 + y**2) > d:\n",
    "                exceptions += ((d//k)*k - (x-k))//k     #TODO sanity check\n",
    "                break\n",
    "    \n",
    "    return dot_inside_d - exceptions"
   ]
  },
  {
   "cell_type": "code",
   "execution_count": 29,
   "metadata": {},
   "outputs": [],
   "source": [
    "from math import sqrt\n",
    "\n",
    "def solution(k, d):\n",
    "    ##1 count whole numbers\n",
    "    dot_inside_d = (d//k + 1)**2    \n",
    "    \n",
    "    ##2 calculate exceptions - backward\n",
    "    # exceptions = 0\n",
    "    count = 0\n",
    "    for y in range((d//k)*k, 0, -k):\n",
    "        for x in range((d//k)*k, 0, -k):\n",
    "            if sqrt(x**2 + y**2) <= d:\n",
    "                # exceptions += ((d//k)*k - (x-k))//k     #TODO sanity check\n",
    "                break\n",
    "            count+=1\n",
    "    \n",
    "    return dot_inside_d - count"
   ]
  },
  {
   "cell_type": "code",
   "execution_count": 49,
   "metadata": {},
   "outputs": [],
   "source": [
    "from math import sqrt\n",
    "\n",
    "#TODO DEBUG\n",
    "def solution(k, d):\n",
    "    count=2+(d//k)\n",
    "    for y in range((d//k)*k -k, 0, -k):\n",
    "        x = int(sqrt(d**2 - y**2))\n",
    "        count += x//k +1\n",
    "    \n",
    "    return count"
   ]
  },
  {
   "cell_type": "code",
   "execution_count": 50,
   "metadata": {},
   "outputs": [
    {
     "data": {
      "text/plain": [
       "26"
      ]
     },
     "execution_count": 50,
     "metadata": {},
     "output_type": "execute_result"
    }
   ],
   "source": [
    "solution(1,5)"
   ]
  }
 ],
 "metadata": {
  "kernelspec": {
   "display_name": "Python 3",
   "language": "python",
   "name": "python3"
  },
  "language_info": {
   "codemirror_mode": {
    "name": "ipython",
    "version": 3
   },
   "file_extension": ".py",
   "mimetype": "text/x-python",
   "name": "python",
   "nbconvert_exporter": "python",
   "pygments_lexer": "ipython3",
   "version": "3.10.undefined"
  }
 },
 "nbformat": 4,
 "nbformat_minor": 2
}
