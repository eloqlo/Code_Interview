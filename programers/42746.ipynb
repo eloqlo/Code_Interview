{
 "cells": [
  {
   "cell_type": "code",
   "execution_count": 25,
   "metadata": {},
   "outputs": [],
   "source": [
    "# 시간초과 1,2,3,5,6\n",
    "# 실패 11\n",
    "def quick_sort(array):\n",
    "    if len(array) <=1 :\n",
    "        return array\n",
    "    \n",
    "    pivot = array[0]\n",
    "    tail = array[1:]\n",
    "    \n",
    "    left_side = [x for x in tail if int(x+pivot)>int(pivot+x)] # pivot 보다 앞설 애들\n",
    "    right_side = [x for x in tail if int(x+pivot)<=int(pivot+x)] # pivot 보다 뒤에 올 애들\n",
    "    return quick_sort(left_side) + [pivot] + quick_sort(right_side)\n",
    "\n",
    "def solution(numbers):\n",
    "    li=list(map(str,numbers))\n",
    "    ans=''.join(quick_sort(li))\n",
    "    if int(ans)==0:\n",
    "        ans='0'\n",
    "    return ans\n",
    "    "
   ]
  },
  {
   "cell_type": "code",
   "execution_count": 26,
   "metadata": {},
   "outputs": [
    {
     "data": {
      "text/plain": [
       "'0'"
      ]
     },
     "execution_count": 26,
     "metadata": {},
     "output_type": "execute_result"
    }
   ],
   "source": [
    "# numbers = [3, 30, 34, 5, 9]\n",
    "numbers = [0,0]\n",
    "\n",
    "solution(numbers)"
   ]
  },
  {
   "cell_type": "code",
   "execution_count": 26,
   "metadata": {},
   "outputs": [
    {
     "data": {
      "text/plain": [
       "'9534330'"
      ]
     },
     "execution_count": 26,
     "metadata": {},
     "output_type": "execute_result"
    }
   ],
   "source": [
    "array=[5,7,9,0,3,1,6,2,4,8]\n",
    "\n",
    "def quick_sort(array):\n",
    "    if len(array) <=1 :\n",
    "        return array\n",
    "    \n",
    "    pivot = array[0]\n",
    "    tail = array[1:]\n",
    "    \n",
    "    left_side = [x for x in tail if int(x+pivot)>int(pivot+x)] # pivot 보다 앞설 애들\n",
    "    right_side = [x for x in tail if int(x+pivot)<=int(pivot+x)] # pivot 보다 뒤에 올 애들\n",
    "    return quick_sort(left_side) + [pivot] + quick_sort(right_side)\n",
    "\n",
    "print(quick_sort(array))"
   ]
  }
 ],
 "metadata": {
  "kernelspec": {
   "display_name": "Python 3",
   "language": "python",
   "name": "python3"
  },
  "language_info": {
   "codemirror_mode": {
    "name": "ipython",
    "version": 3
   },
   "file_extension": ".py",
   "mimetype": "text/x-python",
   "name": "python",
   "nbconvert_exporter": "python",
   "pygments_lexer": "ipython3",
   "version": "3.10.11"
  }
 },
 "nbformat": 4,
 "nbformat_minor": 2
}
