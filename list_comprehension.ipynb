{
 "cells": [
  {
   "cell_type": "code",
   "execution_count": 1,
   "metadata": {},
   "outputs": [
    {
     "name": "stdout",
     "output_type": "stream",
     "text": [
      "['apple', 'banana', 'mango']\n"
     ]
    }
   ],
   "source": [
    "fruits = [\"apple\", \"banana\", \"cherry\", \"kiwi\", \"mango\"]\n",
    "newlist = []\n",
    "\n",
    "for x in fruits:\n",
    "  if \"a\" in x:\n",
    "    newlist.append(x)\n",
    "\n",
    "print(newlist)"
   ]
  },
  {
   "cell_type": "code",
   "execution_count": 2,
   "metadata": {},
   "outputs": [
    {
     "name": "stdout",
     "output_type": "stream",
     "text": [
      "['apple', 'banana', 'mango']\n"
     ]
    }
   ],
   "source": [
    "fruits = [\"apple\", \"banana\", \"cherry\", \"kiwi\", \"mango\"]\n",
    "\n",
    "newli = [x for x in fruits if \"a\" in x]\n",
    "\n",
    "print(newli)"
   ]
  },
  {
   "cell_type": "markdown",
   "metadata": {},
   "source": [
    "문법"
   ]
  },
  {
   "cell_type": "code",
   "execution_count": null,
   "metadata": {},
   "outputs": [],
   "source": [
    "newli = [expression for item in iterable if condiition == True]"
   ]
  },
  {
   "cell_type": "markdown",
   "metadata": {},
   "source": [
    "연습\n",
    "1. 단어중 i가있는 list를 추려내라.\n",
    "2. 문장에서, .으로 끝나는 단어들을 추려라."
   ]
  },
  {
   "cell_type": "code",
   "execution_count": 3,
   "metadata": {},
   "outputs": [
    {
     "data": {
      "text/plain": [
       "['iphone hello',\n",
       " 'igrus hello',\n",
       " 'ipp hello',\n",
       " 'identity hello',\n",
       " 'immortal hello']"
      ]
     },
     "execution_count": 3,
     "metadata": {},
     "output_type": "execute_result"
    }
   ],
   "source": [
    "# 1\n",
    "li = ['iphone', 'igrus', 'ipp', 'hello', 'identity', 'immortal', 'apple', 'come']\n",
    "\n",
    "newli = [x+' hello' for x in li if 'i' in x]"
   ]
  },
  {
   "cell_type": "code",
   "execution_count": 12,
   "metadata": {},
   "outputs": [
    {
     "name": "stdout",
     "output_type": "stream",
     "text": [
      "135\n"
     ]
    },
    {
     "data": {
      "text/plain": [
       "['prices.',\n",
       " 'currencies.',\n",
       " 'two.Gold',\n",
       " 'U.S.',\n",
       " 'fashion.',\n",
       " 'value.',\n",
       " 'recedes.',\n",
       " 'asset.',\n",
       " 'terms.It']"
      ]
     },
     "execution_count": 12,
     "metadata": {},
     "output_type": "execute_result"
    }
   ],
   "source": [
    "#2\n",
    "text = 'The prices of gold and the dollar may often appear to oppose each other due to investor sentiments and economic factors, but there is no set or official relationship between the two.Gold is an asset. As such, it has intrinsic value. However, that value can fluctuate over time, sometimes in a volatile fashion. As a rule, when the value of the dollar increases relative to other currencies worldwide, the price of gold tends to fall in U.S. dollar terms.It is because gold becomes more expensive in other currencies. As the price of any commodity moves higher, there tend to be fewer buyers; in other words, demand recedes. Conversely, as the value of the U.S. dollar moves lower, gold tends to appreciate as it becomes cheaper in other currencies. Demand tends to increase at lower prices.'\n",
    "tokens = text.split()\n",
    "print(len(tokens))\n",
    "\n",
    "new_tokens = set(tokens)\n",
    "new_tokens = list(new_tokens)\n",
    "\n",
    "end_tokens = [x for x in new_tokens if '.' in x]\n",
    "end_tokens"
   ]
  },
  {
   "cell_type": "code",
   "execution_count": null,
   "metadata": {},
   "outputs": [],
   "source": []
  }
 ],
 "metadata": {
  "kernelspec": {
   "display_name": "Python 3.8.12 ('Ethics-Korean')",
   "language": "python",
   "name": "python3"
  },
  "language_info": {
   "codemirror_mode": {
    "name": "ipython",
    "version": 3
   },
   "file_extension": ".py",
   "mimetype": "text/x-python",
   "name": "python",
   "nbconvert_exporter": "python",
   "pygments_lexer": "ipython3",
   "version": "3.8.12"
  },
  "orig_nbformat": 4,
  "vscode": {
   "interpreter": {
    "hash": "d7b8a9d296651b950055feafaab8f47ff1cee70807e6c570958d0b27d2589bac"
   }
  }
 },
 "nbformat": 4,
 "nbformat_minor": 2
}
