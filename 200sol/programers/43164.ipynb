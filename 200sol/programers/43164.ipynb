{
 "cells": [
  {
   "cell_type": "code",
   "execution_count": 184,
   "metadata": {},
   "outputs": [],
   "source": [
    "from collections import deque\n",
    "\n",
    "def solution(tickets):\n",
    "    # 정리 한번 하고?\n",
    "    tmp={}\n",
    "    for dep, arr in tickets:\n",
    "        if (dep not in tmp) or (tmp[dep]==[]):\n",
    "            tmp[dep] = [arr]\n",
    "        else:\n",
    "            tmp[dep].append(arr)\n",
    "            tmp[dep].sort()\n",
    "        if arr not in tmp:\n",
    "            tmp[arr]=[]\n",
    "    \n",
    "    first_iter=True\n",
    "    visited=[]\n",
    "    to_visit=deque([[\"START!\",\"ICN\"]])\n",
    "    while tickets:\n",
    "        #1 현위치 업데이트\n",
    "        cur_ticket = to_visit.popleft()   # 다음 갈 곳 받아옴\n",
    "        visited.append(cur_ticket[1])   # 방문기록에 현위치 추가\n",
    "        if not first_iter:\n",
    "            tickets.remove(cur_ticket)  # 티켓 사용\n",
    "        \n",
    "        #2 다음 갈곳 찾기\n",
    "        af_check_li=[]\n",
    "        nxt_nodes=tmp[cur_ticket[1]]\n",
    "        for node in nxt_nodes:\n",
    "            bf_check=[cur_ticket[1],node]   # 현재 공항에서 갈 수 있는 공항들\n",
    "            if bf_check in tickets:         # 중에서 티켓 가지고 있는 애들\n",
    "                tickets.remove(bf_check)    # 티켓 사용\n",
    "                af_check_li.append(bf_check)    # 체크 완료\n",
    "        tickets+=af_check_li    # 티켓은 가서 사용하므로 다시 추가\n",
    "        nxt_nodes=af_check_li   # nxt_nodes 가능한 애들로 변경\n",
    "        \n",
    "        #3 \n",
    "        if len(nxt_nodes)==0 and len(tickets)!=0:   # 갈곳이 없고, 티켓이 남았다.\n",
    "            next_queue_node=to_visit[0][0]\n",
    "            for _ in range(len(visited)):\n",
    "                node_b = visited.pop()\n",
    "                node_a = visited[-1]\n",
    "                tickets.append([node_a,node_b])\n",
    "                if node_a==next_queue_node:\n",
    "                    break\n",
    "        else:\n",
    "            to_visit = deque(nxt_nodes) + to_visit\n",
    "        \n",
    "        first_iter=False\n",
    "    return visited"
   ]
  },
  {
   "cell_type": "code",
   "execution_count": 187,
   "metadata": {},
   "outputs": [
    {
     "name": "stdout",
     "output_type": "stream",
     "text": [
      "['ICN']\n",
      "['ICN', 'aaa']\n",
      "['ICN', 'aaa', 'bbb']\n",
      "['ICN']\n",
      "['ICN', 'zzz']\n",
      "['ICN', 'zzz', 'ICN']\n",
      "['ICN', 'zzz', 'ICN', 'aaa']\n",
      "['ICN', 'zzz', 'ICN', 'aaa', 'bbb']\n",
      "['ICN', 'zzz', 'ICN', 'aaa', 'bbb', 'ccc']\n"
     ]
    },
    {
     "data": {
      "text/plain": [
       "['ICN', 'zzz', 'ICN', 'aaa', 'bbb', 'ccc']"
      ]
     },
     "execution_count": 187,
     "metadata": {},
     "output_type": "execute_result"
    }
   ],
   "source": [
    "tickets=[['ICN','aaa'],['aaa','bbb'],['bbb','ccc'],['ICN','zzz'],['zzz','ICN']]\n",
    "\n",
    "solution(tickets)"
   ]
  }
 ],
 "metadata": {
  "kernelspec": {
   "display_name": "Python 3",
   "language": "python",
   "name": "python3"
  },
  "language_info": {
   "codemirror_mode": {
    "name": "ipython",
    "version": 3
   },
   "file_extension": ".py",
   "mimetype": "text/x-python",
   "name": "python",
   "nbconvert_exporter": "python",
   "pygments_lexer": "ipython3",
   "version": "3.10.11"
  }
 },
 "nbformat": 4,
 "nbformat_minor": 2
}
