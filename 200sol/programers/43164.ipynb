{
 "cells": [
  {
   "cell_type": "code",
   "execution_count": 46,
   "metadata": {},
   "outputs": [
    {
     "ename": "IndentationError",
     "evalue": "expected an indented block after 'while' statement on line 16 (1603306032.py, line 19)",
     "output_type": "error",
     "traceback": [
      "\u001b[1;36m  Input \u001b[1;32mIn [46]\u001b[1;36m\u001b[0m\n\u001b[1;33m    return None\u001b[0m\n\u001b[1;37m    ^\u001b[0m\n\u001b[1;31mIndentationError\u001b[0m\u001b[1;31m:\u001b[0m expected an indented block after 'while' statement on line 16\n"
     ]
    }
   ],
   "source": [
    "def solution(tickets):\n",
    "    # 정리 한번 하고?\n",
    "    for dep, arr in tickets:\n",
    "        names.add(dep)\n",
    "        names.add(arr)\n",
    "        if dep not in tmp:\n",
    "            tmp[dep] = ([arr],[False])\n",
    "        else:\n",
    "            tmp[dep][0].append(arr)\n",
    "            tmp[dep][0].sort()\n",
    "            tmp[dep][1].append(False)\n",
    "    \n",
    "    # traversal\n",
    "    max_len = len(tickets)+1\n",
    "    stack=[\"ICN\"]\n",
    "    while len(stack)!=max_len:\n",
    "        deps, checks = tmp[stack[-1]]\n",
    "        for i in len(deps):\n",
    "            if checks[i]:\n",
    "                stack.append(deps[i])\n",
    "                checks[i]=True\n",
    "            \n",
    "    \n",
    "    return None"
   ]
  },
  {
   "cell_type": "code",
   "execution_count": 45,
   "metadata": {},
   "outputs": [],
   "source": [
    "tickets=[[\"ICN\", \"SFO\"], [\"ICN\", \"ATL\"], [\"SFO\", \"ATL\"], [\"ATL\", \"ICN\"], [\"ATL\",\"SFO\"]]\n",
    "\n",
    "solution(tickets)"
   ]
  }
 ],
 "metadata": {
  "kernelspec": {
   "display_name": "Python 3",
   "language": "python",
   "name": "python3"
  },
  "language_info": {
   "codemirror_mode": {
    "name": "ipython",
    "version": 3
   },
   "file_extension": ".py",
   "mimetype": "text/x-python",
   "name": "python",
   "nbconvert_exporter": "python",
   "pygments_lexer": "ipython3",
   "version": "3.10.11"
  }
 },
 "nbformat": 4,
 "nbformat_minor": 2
}
