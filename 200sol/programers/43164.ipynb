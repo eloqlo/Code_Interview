{
 "cells": [
  {
   "cell_type": "code",
   "execution_count": 50,
   "metadata": {},
   "outputs": [],
   "source": [
    "from collections import deque\n",
    "\n",
    "def solution(tickets):\n",
    "    # 정리 한번 하고?\n",
    "    tmp={}\n",
    "    for dep, arr in tickets:\n",
    "        if dep not in tmp:\n",
    "            tmp[dep] = [arr]\n",
    "        else:\n",
    "            tmp[dep].append(arr)\n",
    "            tmp[dep].sort()\n",
    "    \n",
    "    first_iter=True\n",
    "    visited=[]\n",
    "    to_visit=deque([\"ICN\"])\n",
    "    while tickets:\n",
    "        cur_node=to_visit.popleft()[1]\n",
    "        visited.append(cur_node)\n",
    "        if not first_iter:\n",
    "            print([visited[-2],cur_node])\n",
    "            print(tickets)\n",
    "            tickets.remove([visited[-2],cur_node])\n",
    "        nxt_nodes=tmp[cur_node]\n",
    "        \n",
    "        # 티켓 없는 nxt_nodes 제거\n",
    "        tmptmp=[]\n",
    "        for node in nxt_nodes:\n",
    "            bf_check=[cur_node,node]\n",
    "            if bf_check in tickets:\n",
    "                tickets.remove(bf_check)\n",
    "                tmptmp.append(bf_check)\n",
    "        tickets+=tmptmp\n",
    "        nxt_nodes=tmptmp\n",
    "        \n",
    "        # 종결조건\n",
    "        if len(nxt_nodes)==0 and tickets:\n",
    "            node = visited.pop()\n",
    "            tickets.append([visited[-1],node])\n",
    "        else:\n",
    "            print(to_visit)\n",
    "            to_visit = deque(nxt_nodes) + to_visit\n",
    "        \n",
    "        first_iter=False\n",
    "    return visited"
   ]
  },
  {
   "cell_type": "code",
   "execution_count": 51,
   "metadata": {},
   "outputs": [
    {
     "ename": "KeyError",
     "evalue": "'C'",
     "output_type": "error",
     "traceback": [
      "\u001b[1;31m---------------------------------------------------------------------------\u001b[0m",
      "\u001b[1;31mKeyError\u001b[0m                                  Traceback (most recent call last)",
      "Input \u001b[1;32mIn [51]\u001b[0m, in \u001b[0;36m<cell line: 2>\u001b[1;34m()\u001b[0m\n\u001b[0;32m      1\u001b[0m tickets\u001b[38;5;241m=\u001b[39m[[\u001b[38;5;124m\"\u001b[39m\u001b[38;5;124mICN\u001b[39m\u001b[38;5;124m\"\u001b[39m, \u001b[38;5;124m\"\u001b[39m\u001b[38;5;124mSFO\u001b[39m\u001b[38;5;124m\"\u001b[39m], [\u001b[38;5;124m\"\u001b[39m\u001b[38;5;124mICN\u001b[39m\u001b[38;5;124m\"\u001b[39m, \u001b[38;5;124m\"\u001b[39m\u001b[38;5;124mATL\u001b[39m\u001b[38;5;124m\"\u001b[39m], [\u001b[38;5;124m\"\u001b[39m\u001b[38;5;124mSFO\u001b[39m\u001b[38;5;124m\"\u001b[39m, \u001b[38;5;124m\"\u001b[39m\u001b[38;5;124mATL\u001b[39m\u001b[38;5;124m\"\u001b[39m], [\u001b[38;5;124m\"\u001b[39m\u001b[38;5;124mATL\u001b[39m\u001b[38;5;124m\"\u001b[39m, \u001b[38;5;124m\"\u001b[39m\u001b[38;5;124mICN\u001b[39m\u001b[38;5;124m\"\u001b[39m], [\u001b[38;5;124m\"\u001b[39m\u001b[38;5;124mATL\u001b[39m\u001b[38;5;124m\"\u001b[39m,\u001b[38;5;124m\"\u001b[39m\u001b[38;5;124mSFO\u001b[39m\u001b[38;5;124m\"\u001b[39m]]\n\u001b[1;32m----> 2\u001b[0m \u001b[43msolution\u001b[49m\u001b[43m(\u001b[49m\u001b[43mtickets\u001b[49m\u001b[43m)\u001b[49m\n",
      "Input \u001b[1;32mIn [50]\u001b[0m, in \u001b[0;36msolution\u001b[1;34m(tickets)\u001b[0m\n\u001b[0;32m     21\u001b[0m     \u001b[38;5;28mprint\u001b[39m(tickets)\n\u001b[0;32m     22\u001b[0m     tickets\u001b[38;5;241m.\u001b[39mremove([visited[\u001b[38;5;241m-\u001b[39m\u001b[38;5;241m2\u001b[39m],cur_node])\n\u001b[1;32m---> 23\u001b[0m nxt_nodes\u001b[38;5;241m=\u001b[39m\u001b[43mtmp\u001b[49m\u001b[43m[\u001b[49m\u001b[43mcur_node\u001b[49m\u001b[43m]\u001b[49m\n\u001b[0;32m     25\u001b[0m \u001b[38;5;66;03m# 티켓 없는 nxt_nodes 제거\u001b[39;00m\n\u001b[0;32m     26\u001b[0m tmptmp\u001b[38;5;241m=\u001b[39m[]\n",
      "\u001b[1;31mKeyError\u001b[0m: 'C'"
     ]
    }
   ],
   "source": [
    "tickets=[[\"ICN\", \"SFO\"], [\"ICN\", \"ATL\"], [\"SFO\", \"ATL\"], [\"ATL\", \"ICN\"], [\"ATL\",\"SFO\"]]\n",
    "solution(tickets)"
   ]
  }
 ],
 "metadata": {
  "kernelspec": {
   "display_name": "Python 3",
   "language": "python",
   "name": "python3"
  },
  "language_info": {
   "codemirror_mode": {
    "name": "ipython",
    "version": 3
   },
   "file_extension": ".py",
   "mimetype": "text/x-python",
   "name": "python",
   "nbconvert_exporter": "python",
   "pygments_lexer": "ipython3",
   "version": "3.10.11"
  }
 },
 "nbformat": 4,
 "nbformat_minor": 2
}
