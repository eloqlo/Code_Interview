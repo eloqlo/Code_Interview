{
 "cells": [
  {
   "cell_type": "code",
   "execution_count": 48,
   "metadata": {},
   "outputs": [],
   "source": [
    "def solution(n):\n",
    "    ans = [[0]*n for _ in range(n)]\n",
    "    odd= n%2\n",
    "    nn=n\n",
    "    n-=1\n",
    "    count=0\n",
    "    x=0;y=0\n",
    "    while True:\n",
    "        for direction in range(4):\n",
    "            for foo in range(n):\n",
    "                count+=1\n",
    "                if direction==0:\n",
    "                    ans[y][x]=count\n",
    "                    x+=1\n",
    "                elif direction==1:\n",
    "                    ans[y][x]=count\n",
    "                    y+=1\n",
    "                elif direction==2:\n",
    "                    ans[y][x]=count\n",
    "                    x-=1\n",
    "                elif direction==3:\n",
    "                    ans[y][x]=count\n",
    "                    y-=1\n",
    "                    if foo==n-1:\n",
    "                        x+=1; y+=1\n",
    "        n-=2\n",
    "        if n<=0:\n",
    "            break\n",
    "\n",
    "    if odd:\n",
    "        ans[nn//2][nn//2]=count+1\n",
    "    \n",
    "    return ans"
   ]
  },
  {
   "cell_type": "code",
   "execution_count": 49,
   "metadata": {},
   "outputs": [
    {
     "name": "stdout",
     "output_type": "stream",
     "text": [
      "[1, 2, 3]\n",
      "[8, 9, 4]\n",
      "[7, 6, 5]\n"
     ]
    }
   ],
   "source": [
    "n=3\n",
    "ans=solution(n)\n",
    "for a in ans:\n",
    "    print(a)"
   ]
  },
  {
   "cell_type": "code",
   "execution_count": null,
   "metadata": {},
   "outputs": [],
   "source": []
  }
 ],
 "metadata": {
  "kernelspec": {
   "display_name": "Python 3",
   "language": "python",
   "name": "python3"
  },
  "language_info": {
   "codemirror_mode": {
    "name": "ipython",
    "version": 3
   },
   "file_extension": ".py",
   "mimetype": "text/x-python",
   "name": "python",
   "nbconvert_exporter": "python",
   "pygments_lexer": "ipython3",
   "version": "3.10.undefined"
  }
 },
 "nbformat": 4,
 "nbformat_minor": 2
}
