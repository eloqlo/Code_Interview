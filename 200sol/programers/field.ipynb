{
 "cells": [
  {
   "attachments": {},
   "cell_type": "markdown",
   "metadata": {},
   "source": [
    "### first one"
   ]
  },
  {
   "cell_type": "code",
   "execution_count": 10,
   "metadata": {},
   "outputs": [],
   "source": [
    "def solution(array):\n",
    "    \n",
    "    \"\"\"\n",
    "    1. 정렬\n",
    "    2. 행렬 길이//2 째 index 반환\n",
    "    \"\"\"\n",
    "    \n",
    "    array.sort()\n",
    "    idx = len(array)//2\n",
    "    answer = array[idx]\n",
    "    \n",
    "    return answer"
   ]
  },
  {
   "cell_type": "code",
   "execution_count": 8,
   "metadata": {},
   "outputs": [
    {
     "data": {
      "text/plain": [
       "3"
      ]
     },
     "execution_count": 8,
     "metadata": {},
     "output_type": "execute_result"
    }
   ],
   "source": [
    "li = [1,2,3,4,5]\n",
    "solution(li)"
   ]
  },
  {
   "cell_type": "code",
   "execution_count": 12,
   "metadata": {},
   "outputs": [
    {
     "data": {
      "text/plain": [
       "2"
      ]
     },
     "execution_count": 12,
     "metadata": {},
     "output_type": "execute_result"
    }
   ],
   "source": [
    "5//2"
   ]
  },
  {
   "attachments": {},
   "cell_type": "markdown",
   "metadata": {},
   "source": [
    "### D3 최빈값 구하기"
   ]
  },
  {
   "cell_type": "code",
   "execution_count": 36,
   "metadata": {},
   "outputs": [],
   "source": [
    "def solution(array):\n",
    "    answer = [0]*1000\n",
    "    # O(N)\n",
    "    for ele in array:\n",
    "        answer[ele]+=1\n",
    "    #O(N)\n",
    "    count=0\n",
    "    for val, ele in enumerate(answer):\n",
    "        if ele==max(answer):\n",
    "            count+=1\n",
    "            result = val\n",
    "        \n",
    "    \n",
    "    if count>1:\n",
    "        return -1\n",
    "    else:\n",
    "        return result"
   ]
  },
  {
   "cell_type": "code",
   "execution_count": 38,
   "metadata": {},
   "outputs": [
    {
     "data": {
      "text/plain": [
       "-1"
      ]
     },
     "execution_count": 38,
     "metadata": {},
     "output_type": "execute_result"
    }
   ],
   "source": [
    "solution([1,2,2,2,3,3,3,4])"
   ]
  },
  {
   "attachments": {},
   "cell_type": "markdown",
   "metadata": {},
   "source": [
    "### D3 짝수는 싫어요"
   ]
  },
  {
   "cell_type": "code",
   "execution_count": 47,
   "metadata": {},
   "outputs": [
    {
     "data": {
      "text/plain": [
       "[1, 3, 5, 7, 9]"
      ]
     },
     "execution_count": 47,
     "metadata": {},
     "output_type": "execute_result"
    }
   ],
   "source": [
    "# 1\n",
    "# 1\\\n",
    "#     0\n",
    "\n",
    "# 2\n",
    "# 1\\\n",
    "#     0\n",
    "\n",
    "# 3\n",
    "# 1 3\\\n",
    "#     0 2\n",
    "\n",
    "# 4\n",
    "# 1 3\\\n",
    "#     0 2\n",
    "\n",
    "# 5\n",
    "# 1 3 5\\\n",
    "#     0 2 4\n",
    "\n",
    "\n",
    "# n =13\n",
    "# 1 3 5 7 9 11 13\\\n",
    "#     0 2 4 6 8 10 12 -> 0 1 2 3 4 5 6, 1 2 3 4 5 6\n",
    "n=10\n",
    "N = n//2\n",
    "result = [i*2+1 for i in range(N)]\n",
    "\n",
    "result"
   ]
  },
  {
   "cell_type": "code",
   "execution_count": 57,
   "metadata": {},
   "outputs": [
    {
     "data": {
      "text/plain": [
       "[1, 3, 5, 7, 9, 11, 13, 15]"
      ]
     },
     "execution_count": 57,
     "metadata": {},
     "output_type": "execute_result"
    }
   ],
   "source": [
    "n = 15\n",
    "li = []\n",
    "for i in range(1,n+1):\n",
    "    if i%2==1:\n",
    "        li.append(i)\n",
    "li"
   ]
  },
  {
   "cell_type": "code",
   "execution_count": 53,
   "metadata": {},
   "outputs": [
    {
     "name": "stdout",
     "output_type": "stream",
     "text": [
      "1\n"
     ]
    }
   ],
   "source": [
    "for i in range(1,1+1):\n",
    "    print(i)"
   ]
  }
 ],
 "metadata": {
  "kernelspec": {
   "display_name": "base",
   "language": "python",
   "name": "python3"
  },
  "language_info": {
   "codemirror_mode": {
    "name": "ipython",
    "version": 3
   },
   "file_extension": ".py",
   "mimetype": "text/x-python",
   "name": "python",
   "nbconvert_exporter": "python",
   "pygments_lexer": "ipython3",
   "version": "3.9.15"
  },
  "orig_nbformat": 4
 },
 "nbformat": 4,
 "nbformat_minor": 2
}
