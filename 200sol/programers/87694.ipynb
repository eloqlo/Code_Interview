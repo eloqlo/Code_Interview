{
 "cells": [
  {
   "cell_type": "code",
   "execution_count": null,
   "metadata": {},
   "outputs": [],
   "source": [
    "from collections import deque\n",
    "\n",
    "def solution(rectangle, characterX, characterY, itemX, itemY):\n",
    "    first_rect=None\n",
    "    \n",
    "    mx=[-1,1,0,0]\n",
    "    my=[0,0,-1,1]\n",
    "    \n",
    "    positions=[(characterX,characterY)]\n",
    "    # find possible next location\n",
    "    while True:\n",
    "        # find which rectangle now we belongs\n",
    "        rect_candid=[]\n",
    "        for cur_rect in rectangle:\n",
    "            if characterX in cur_rect:\n",
    "                rect_candid.append(cur_rect)\n",
    "            if characterY in cur_rect:\n",
    "                rect_candid.append(cur_rect)\n",
    "        \n",
    "\n",
    "        # find next position wrt current positions\n",
    "        for pos in positions:\n",
    "            x=pos[0]\n",
    "            y=pos[1]\n",
    "            if x\n",
    "    answer = 0\n",
    "    return answer"
   ]
  }
 ],
 "metadata": {
  "language_info": {
   "name": "python"
  }
 },
 "nbformat": 4,
 "nbformat_minor": 2
}
