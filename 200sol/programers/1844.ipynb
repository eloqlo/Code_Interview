{
 "cells": [
  {
   "cell_type": "code",
   "execution_count": 8,
   "metadata": {},
   "outputs": [],
   "source": [
    "from collections import deque\n",
    "\n",
    "def solution(maps):\n",
    "    n=len(maps); m=len(maps[0])\n",
    "    step=0\n",
    "    pos=(0,0)\n",
    "    q=deque()\n",
    "    q.append(pos)\n",
    "    check=[[False]*m for _ in range(n)]\n",
    "\n",
    "    for _ in range(10000):\n",
    "        qq=deque()\n",
    "        step+=1\n",
    "        while q:\n",
    "            i,j = q.popleft()\n",
    "            if i!=0:\n",
    "                if check[i-1][j]==False and maps[i-1][j]==1:\n",
    "                    if (i-1,j)==(n-1,m-1):\n",
    "                        return step+1\n",
    "                    qq.append((i-1,j))\n",
    "                    check[i-1][j]=True\n",
    "            if i!=n-1:\n",
    "                if check[i+1][j]==False and maps[i+1][j]==1:\n",
    "                    if (i+1,j)==(n-1,m-1):\n",
    "                        return step+1\n",
    "                    qq.append((i+1,j))\n",
    "                    check[i+1][j]=True\n",
    "            if j!=0:\n",
    "                if check[i][j-1]==False and maps[i][j-1]==1:\n",
    "                    if (i,j-1)==(n-1,m-1):\n",
    "                        return step+1\n",
    "                    qq.append((i,j-1))\n",
    "                    check[i][j-1]=True\n",
    "            if j!=m-1:\n",
    "                if check[i][j+1]==False and maps[i][j+1]==1:\n",
    "                    if (i,j+1)==(n-1,m-1):\n",
    "                        return step+1\n",
    "                    qq.append((i,j+1))\n",
    "                    check[i][j+1]=True\n",
    "        if len(qq)==0:\n",
    "            return -1\n",
    "        q=qq.copy()\n"
   ]
  },
  {
   "cell_type": "code",
   "execution_count": 9,
   "metadata": {},
   "outputs": [
    {
     "data": {
      "text/plain": [
       "11"
      ]
     },
     "execution_count": 9,
     "metadata": {},
     "output_type": "execute_result"
    }
   ],
   "source": [
    "solution([[1,0,1,1,1],[1,0,1,0,1],[1,0,1,1,1],[1,1,1,0,1],[0,0,0,0,1]])"
   ]
  },
  {
   "cell_type": "code",
   "execution_count": 10,
   "metadata": {},
   "outputs": [
    {
     "data": {
      "text/plain": [
       "-1"
      ]
     },
     "execution_count": 10,
     "metadata": {},
     "output_type": "execute_result"
    }
   ],
   "source": [
    "solution([[1,0,1,1,1],[1,0,1,0,1],[1,0,1,1,1],[1,1,1,0,0],[0,0,0,0,1]])"
   ]
  }
 ],
 "metadata": {
  "kernelspec": {
   "display_name": "Python 3",
   "language": "python",
   "name": "python3"
  },
  "language_info": {
   "codemirror_mode": {
    "name": "ipython",
    "version": 3
   },
   "file_extension": ".py",
   "mimetype": "text/x-python",
   "name": "python",
   "nbconvert_exporter": "python",
   "pygments_lexer": "ipython3",
   "version": "3.10.11"
  }
 },
 "nbformat": 4,
 "nbformat_minor": 2
}
