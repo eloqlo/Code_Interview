{
 "cells": [
  {
   "cell_type": "code",
   "execution_count": 38,
   "metadata": {},
   "outputs": [],
   "source": [
    "def solution(n, lost, reserve):\n",
    "    for ele in list(reserve):\n",
    "        if ele in lost:\n",
    "            lost.remove(ele)\n",
    "            reserve.remove(ele)\n",
    "    lost.sort()\n",
    "    reserve.sort()\n",
    "    count1=0\n",
    "    for i in range(len(lost)):\n",
    "        if lost[i]-1 in reserve:\n",
    "            count1+=1\n",
    "            reserve.remove(lost[i]-1)\n",
    "        elif lost[i]+1 in reserve:\n",
    "            count1+=1\n",
    "            reserve.remove(lost[i]+1)\n",
    "    \n",
    "    n = n-len(lost)+count1\n",
    "    return n"
   ]
  },
  {
   "cell_type": "code",
   "execution_count": 39,
   "metadata": {},
   "outputs": [
    {
     "data": {
      "text/plain": [
       "30"
      ]
     },
     "execution_count": 39,
     "metadata": {},
     "output_type": "execute_result"
    }
   ],
   "source": [
    "n=30\n",
    "lost=[4,2]\n",
    "reserve=[5,3]\n",
    "\n",
    "solution(n,lost,reserve)"
   ]
  }
 ],
 "metadata": {
  "kernelspec": {
   "display_name": "Python 3",
   "language": "python",
   "name": "python3"
  },
  "language_info": {
   "codemirror_mode": {
    "name": "ipython",
    "version": 3
   },
   "file_extension": ".py",
   "mimetype": "text/x-python",
   "name": "python",
   "nbconvert_exporter": "python",
   "pygments_lexer": "ipython3",
   "version": "3.10.11"
  }
 },
 "nbformat": 4,
 "nbformat_minor": 2
}
