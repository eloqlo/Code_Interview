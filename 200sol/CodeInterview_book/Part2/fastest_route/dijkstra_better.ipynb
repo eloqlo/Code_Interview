{
 "cells": [
  {
   "cell_type": "code",
   "execution_count": 1,
   "metadata": {},
   "outputs": [],
   "source": [
    "import heapq\n",
    "import sys"
   ]
  },
  {
   "cell_type": "code",
   "execution_count": 2,
   "metadata": {},
   "outputs": [],
   "source": [
    "INF=int(1e9)\n",
    "n,m = 6,11\n",
    "start = 1\n",
    "input = [[1,2,2],\n",
    "         [1,3,5],\n",
    "         [1,4,1],\n",
    "         [2,3,3],\n",
    "         [2,4,2],\n",
    "         [3,2,3],\n",
    "         [3,6,5],\n",
    "         [4,3,3],\n",
    "         [4,5,1],\n",
    "         [5,3,1],\n",
    "         [5,6,2]]\n",
    "graph=[[] for i in range(n+1)]\n",
    "distance=[INF]*(n+1)\n",
    "for a,b,c in input:\n",
    "    graph[a].append((b,c))"
   ]
  },
  {
   "cell_type": "code",
   "execution_count": null,
   "metadata": {},
   "outputs": [],
   "source": [
    "def dijkstra(start):\n",
    "    q=[]\n",
    "    # 시작 노드로 가기 위한 최단 경로는 0으로 설정, 큐에 삽입\n",
    "    heapq.heappush(q, (0,start))\n",
    "    distance[start]=0\n",
    "    \n",
    "    while q:  # 큐가 비어있지 않다면\n",
    "        \n",
    "        # 가장 최단 경로가 짧은 노드에 대해 정보 꺼내기\n",
    "        dist, cur_node = heapq.heqppop(q)\n",
    "        \n",
    "        # 현재 노드가 이미 처리된 적이 있는 노드라면 무시\n",
    "        if distance[cur_node] < dist:\n",
    "            continue\n",
    "        \n",
    "        # 현재 노드와 연결된 다른 인접 노드들 확인\n",
    "        for rel_node, rel_node_dist in graph[cur_node]:\n",
    "            cost = dist + rel_node_dist\n",
    "            # 현재 노드를 거쳐서, 다른 노드로 이동하는 거리가 더 짧은 경우\n",
    "            if cost < distance[rel_node]:\n",
    "                distance[rel_node]\n",
    "            "
   ]
  }
 ],
 "metadata": {
  "kernelspec": {
   "display_name": "Python 3",
   "language": "python",
   "name": "python3"
  },
  "language_info": {
   "codemirror_mode": {
    "name": "ipython",
    "version": 3
   },
   "file_extension": ".py",
   "mimetype": "text/x-python",
   "name": "python",
   "nbconvert_exporter": "python",
   "pygments_lexer": "ipython3",
   "version": "3.10.11"
  }
 },
 "nbformat": 4,
 "nbformat_minor": 2
}
