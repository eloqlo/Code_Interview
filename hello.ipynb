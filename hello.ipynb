{
 "cells": [
  {
   "cell_type": "code",
   "execution_count": null,
   "metadata": {},
   "outputs": [],
   "source": [
    "import pandas as pd\n",
    "import numpy as np\n",
    "from tqdm import tqdm\n",
    "\n",
    "\n",
    "train_data = pd.read_csv(\"data/train_data.csv\")\n",
    "\n",
    "sample_submission = pd.read_csv(\"data/sample_submission.csv\")"
   ]
  },
  {
   "cell_type": "code",
   "execution_count": null,
   "metadata": {},
   "outputs": [],
   "source": [
    "import seaborn\n",
    "seaborn.set()\n",
    "\n",
    "y_col = 'Patv'\n",
    "x_col_temp = train_data.columns.drop(['Patv'])\n",
    "x_col_1 = x_col_temp[:5]\n",
    "x_col_2 = x_col_temp[5:]\n",
    "\n",
    "seaborn.pairplot(data=train_data, height=5, aspect=1,\n",
    "             x_vars=x_col_1,\n",
    "             y_vars=y_col);\n",
    "\n",
    "seaborn.pairplot(data=train_data, height=5, aspect=1,\n",
    "             x_vars=x_col_2,\n",
    "             y_vars=y_col);"
   ]
  }
 ],
 "metadata": {
  "kernelspec": {
   "display_name": "Python 3.8.9 64-bit",
   "language": "python",
   "name": "python3"
  },
  "language_info": {
   "name": "python",
   "version": "3.8.9"
  },
  "orig_nbformat": 4,
  "vscode": {
   "interpreter": {
    "hash": "31f2aee4e71d21fbe5cf8b01ff0e069b9275f58929596ceb00d14d90e3e16cd6"
   }
  }
 },
 "nbformat": 4,
 "nbformat_minor": 2
}
